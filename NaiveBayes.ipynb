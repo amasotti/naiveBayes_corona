{
 "cells": [
  {
   "cell_type": "markdown",
   "id": "amended-diary",
   "metadata": {},
   "source": [
    "# NLP Classifier\n",
    "\n",
    "_from Jurafsky & Martin 3rd edition, ch. 4_"
   ]
  },
  {
   "cell_type": "markdown",
   "id": "republican-thunder",
   "metadata": {},
   "source": [
    "Classifiers are at the heart of many, if not all, NLP tasks. Whether it's sentiment analysis, spam detection, document classification, authorship attribution or something else, we're likely to use Classifiers for our model.\n",
    "\n",
    "Most of modern classifiers are **supervised** algorithms that try to learn the conditional probability \n",
    "\n",
    "$$P(class|input)$$\n",
    "\n",
    "given a training set of inputs already provided with a *supervision signal* (a label specifying the correct classification).\n",
    "\n",
    "Some models are **Probabilistic classifiers** in the sense that they return probabilities that a given input belongs to a class.\n",
    "\n",
    "In general we have two kinds of classifiers:\n",
    "\n",
    "- **Generative classifiers**: like the one explored here, the Naive Bayes Classifier, that try to build a model of how a class could be generated given an input.\n",
    "- **Discriminative classifiers**: like the Logistic Regression model, try to learrn what features are good indicators for a given class."
   ]
  },
  {
   "cell_type": "markdown",
   "id": "social-reservation",
   "metadata": {},
   "source": [
    "## Multinomial Naive Bayes\n",
    "\n",
    "Naive Bayes is a probabilistic classifier, meaning that for a document d, out of all classes c 2 C the classifier returns the class $\\hat{c}$ which has the maximum posterior probability given the document. \n",
    "\n",
    "$$\\hat{c} = argmax_{c \\in C} P(c|d)$$\n",
    "\n",
    "where $\\hat{c}$ is the predicted class, $C$ the set of possible classes and $P(c|d)$ is the probability of assigning a class c given a document $d$.\n",
    "\n",
    "Using *Bayes theorem* we can rewrite the formula above into:\n",
    "\n",
    "$$\\hat{c} = argmax_{c \\in C} P(d|c)P(c)$$\n",
    "\n",
    "Here $P(c)$ is the prior-probability for a given class and $P(d|c)$ is the likelihood. We can represent the document as a set of features.\n",
    "\n",
    "#### Simplyfiying assumption\n",
    "\n",
    "+ $P(d|c)$ in the formula above is too complicated to be calculated if we want to retain all the features (words, word-positions etc..). The first simplification is thus to use a BOW-representation, where only the words and their frequencies are taken into consideration.\n",
    "\n",
    "+ The second assumption is the *Naive Bayes assumption*: conditional independence of features. We assume that the vectors used to represent the words in a text are independent of each other and can thus be *naively* multiplied.\n",
    "\n",
    "$$P(f_1, f_2, ... f_n|c) = P(f_1|c) \\times P(f_2|c) \\times ... P(f_n|c)  $$\n",
    "\n",
    "or more concisely:\n",
    "\n",
    "$$\\hat{c} = argmax_{c \\in C} \\prod_{f \\in F} P(f|c)$$\n",
    "\n",
    "The computations are done in log space, to increase speed and avoid underflow:\n",
    "\n",
    "$$\\hat{c} = argmax_{c \\in C} \\log P(c) + \\sum_{i \\in N} \\log P(w_i|c)$$"
   ]
  },
  {
   "cell_type": "markdown",
   "id": "integrated-activity",
   "metadata": {},
   "source": [
    "How do we calculate the two member of the preceding equation?\n",
    "\n",
    "+ **$P(c)$**:\n",
    "\n",
    "For this we can use the Maximum Likehood Estimator:\n",
    "\n",
    "$$P(c) = \\frac{N_c}{N_d}$$\n",
    "\n",
    "+ **$P(w_i|c)$**:\n",
    "\n",
    "In our case the \"feature\" we're interested in is just the existence of a given word in a document with a given classification; Thus we can compute this probability as:\n",
    "\n",
    "$$P(w_i|c) = \\frac{Count(w_i, c)}{\\sum_{w \\in V} Count(w,c)}$$\n",
    "\n",
    "where $V$ is the vocabulary, the union of all word types in all classes not just the words in one class c.\n",
    "\n",
    "This probabilities are adjusted with the **Laplace smoothing**:\n",
    "\n",
    "$$P(w_i|c) = \\frac{Count(w_i, c) + 1}{(\\sum_{w \\in V} Count(w,c)) + |V|}$$"
   ]
  },
  {
   "cell_type": "markdown",
   "id": "behind-tract",
   "metadata": {},
   "source": [
    "# Implementation\n",
    "\n",
    "The data were taken from [Kaggle/datatattle](https://www.kaggle.com/datatattle/covid-19-nlp-text-classification)"
   ]
  },
  {
   "cell_type": "code",
   "execution_count": 1,
   "id": "reported-cancer",
   "metadata": {},
   "outputs": [],
   "source": [
    "import nltk\n",
    "from nltk.tokenize import TweetTokenizer\n",
    "import pandas as pd\n",
    "import numpy as np\n",
    "import seaborn as sns\n",
    "import matplotlib.pyplot as plt\n",
    "# Graphics in retina format are more sharp and legible\n",
    "%config InlineBackend.figure_format = 'retina'\n",
    "from tqdm.notebook import tqdm"
   ]
  },
  {
   "cell_type": "code",
   "execution_count": 2,
   "id": "instrumental-performance",
   "metadata": {},
   "outputs": [],
   "source": [
    "from collections import defaultdict, Counter\n",
    "tokenizer = TweetTokenizer(strip_handles=True, reduce_len=True)"
   ]
  },
  {
   "cell_type": "markdown",
   "id": "royal-place",
   "metadata": {},
   "source": [
    "## Data loading and exploratory analysis"
   ]
  },
  {
   "cell_type": "code",
   "execution_count": 3,
   "id": "sporting-fundamentals",
   "metadata": {},
   "outputs": [],
   "source": [
    "# Load training data\n",
    "data = pd.read_csv(\"Corona_NLP_train.csv\")"
   ]
  },
  {
   "cell_type": "code",
   "execution_count": 4,
   "id": "higher-command",
   "metadata": {},
   "outputs": [
    {
     "data": {
      "text/html": [
       "<div>\n",
       "<style scoped>\n",
       "    .dataframe tbody tr th:only-of-type {\n",
       "        vertical-align: middle;\n",
       "    }\n",
       "\n",
       "    .dataframe tbody tr th {\n",
       "        vertical-align: top;\n",
       "    }\n",
       "\n",
       "    .dataframe thead th {\n",
       "        text-align: right;\n",
       "    }\n",
       "</style>\n",
       "<table border=\"1\" class=\"dataframe\">\n",
       "  <thead>\n",
       "    <tr style=\"text-align: right;\">\n",
       "      <th></th>\n",
       "      <th>UserName</th>\n",
       "      <th>ScreenName</th>\n",
       "      <th>Location</th>\n",
       "      <th>TweetAt</th>\n",
       "      <th>OriginalTweet</th>\n",
       "      <th>Sentiment</th>\n",
       "    </tr>\n",
       "  </thead>\n",
       "  <tbody>\n",
       "    <tr>\n",
       "      <th>0</th>\n",
       "      <td>3799</td>\n",
       "      <td>48751</td>\n",
       "      <td>London</td>\n",
       "      <td>16-03-2020</td>\n",
       "      <td>@MeNyrbie @Phil_Gahan @Chrisitv https://t.co/i...</td>\n",
       "      <td>Neutral</td>\n",
       "    </tr>\n",
       "    <tr>\n",
       "      <th>1</th>\n",
       "      <td>3800</td>\n",
       "      <td>48752</td>\n",
       "      <td>UK</td>\n",
       "      <td>16-03-2020</td>\n",
       "      <td>advice Talk to your neighbours family to excha...</td>\n",
       "      <td>Positive</td>\n",
       "    </tr>\n",
       "    <tr>\n",
       "      <th>2</th>\n",
       "      <td>3801</td>\n",
       "      <td>48753</td>\n",
       "      <td>Vagabonds</td>\n",
       "      <td>16-03-2020</td>\n",
       "      <td>Coronavirus Australia: Woolworths to give elde...</td>\n",
       "      <td>Positive</td>\n",
       "    </tr>\n",
       "    <tr>\n",
       "      <th>3</th>\n",
       "      <td>3802</td>\n",
       "      <td>48754</td>\n",
       "      <td>NaN</td>\n",
       "      <td>16-03-2020</td>\n",
       "      <td>My food stock is not the only one which is emp...</td>\n",
       "      <td>Positive</td>\n",
       "    </tr>\n",
       "    <tr>\n",
       "      <th>4</th>\n",
       "      <td>3803</td>\n",
       "      <td>48755</td>\n",
       "      <td>NaN</td>\n",
       "      <td>16-03-2020</td>\n",
       "      <td>Me, ready to go at supermarket during the #COV...</td>\n",
       "      <td>Extremely Negative</td>\n",
       "    </tr>\n",
       "  </tbody>\n",
       "</table>\n",
       "</div>"
      ],
      "text/plain": [
       "   UserName  ScreenName   Location     TweetAt  \\\n",
       "0      3799       48751     London  16-03-2020   \n",
       "1      3800       48752         UK  16-03-2020   \n",
       "2      3801       48753  Vagabonds  16-03-2020   \n",
       "3      3802       48754        NaN  16-03-2020   \n",
       "4      3803       48755        NaN  16-03-2020   \n",
       "\n",
       "                                       OriginalTweet           Sentiment  \n",
       "0  @MeNyrbie @Phil_Gahan @Chrisitv https://t.co/i...             Neutral  \n",
       "1  advice Talk to your neighbours family to excha...            Positive  \n",
       "2  Coronavirus Australia: Woolworths to give elde...            Positive  \n",
       "3  My food stock is not the only one which is emp...            Positive  \n",
       "4  Me, ready to go at supermarket during the #COV...  Extremely Negative  "
      ]
     },
     "execution_count": 4,
     "metadata": {},
     "output_type": "execute_result"
    }
   ],
   "source": [
    "data.head()"
   ]
  },
  {
   "cell_type": "code",
   "execution_count": 5,
   "id": "seasonal-insulation",
   "metadata": {},
   "outputs": [
    {
     "data": {
      "text/plain": [
       "(41157, 6)"
      ]
     },
     "execution_count": 5,
     "metadata": {},
     "output_type": "execute_result"
    }
   ],
   "source": [
    "# Show how many observations the dataset contain\n",
    "data.shape"
   ]
  },
  {
   "cell_type": "code",
   "execution_count": 6,
   "id": "nutritional-preservation",
   "metadata": {},
   "outputs": [
    {
     "data": {
      "text/plain": [
       "Positive              11422\n",
       "Negative               9917\n",
       "Neutral                7713\n",
       "Extremely Positive     6624\n",
       "Extremely Negative     5481\n",
       "Name: Sentiment, dtype: int64"
      ]
     },
     "execution_count": 6,
     "metadata": {},
     "output_type": "execute_result"
    }
   ],
   "source": [
    "# Show counts by Sentiment\n",
    "data['Sentiment'].value_counts()"
   ]
  },
  {
   "cell_type": "code",
   "execution_count": 7,
   "id": "civil-description",
   "metadata": {},
   "outputs": [
    {
     "data": {
      "text/plain": [
       "[Text(0, 0, 'Neutral'),\n",
       " Text(1, 0, 'Positive'),\n",
       " Text(2, 0, 'Extremely Negative'),\n",
       " Text(3, 0, 'Negative'),\n",
       " Text(4, 0, 'Extremely Positive')]"
      ]
     },
     "execution_count": 7,
     "metadata": {},
     "output_type": "execute_result"
    },
    {
     "data": {
      "image/png": "[encoded data removed]",
      "text/plain": [
       "<Figure size 432x288 with 1 Axes>"
      ]
     },
     "metadata": {
      "image/png": {
       "height": 310,
       "width": 410
      },
      "needs_background": "light"
     },
     "output_type": "display_data"
    }
   ],
   "source": [
    "plot = sns.countplot(x=\"Sentiment\", data=data)\n",
    "plot.set_xticklabels(plot.get_xticklabels(),rotation=30)"
   ]
  },
  {
   "cell_type": "markdown",
   "id": "excessive-yacht",
   "metadata": {},
   "source": [
    "## Train Naive Bayes"
   ]
  },
  {
   "cell_type": "code",
   "execution_count": 8,
   "id": "hazardous-allocation",
   "metadata": {},
   "outputs": [],
   "source": [
    "class Data(object):\n",
    "    \"\"\"\n",
    "    Extract data (tweets and sentiment labels) from the dataset\n",
    "    and organize the data for later use.\n",
    "    \n",
    "    \"\"\"\n",
    "    def __init__(self, data):\n",
    "        self.df = data # the pandas dataframe\n",
    "        self.tweets = data['OriginalTweet'].tolist()\n",
    "    \n",
    "        self.classes = data['Sentiment'].unique().tolist()\n",
    "        self.mappings = self.class_dictionary()\n",
    "        \n",
    "        self.tokens = self.tokenize() # needed to build the vocab\n",
    "        self.vocab = self.build_vocab()\n",
    "        \n",
    "        # Subsetting\n",
    "        self.tweets_per_class = self.split_tweets()\n",
    "        \n",
    "    def class_dictionary(self):\n",
    "        \"\"\"\n",
    "        Mapping sentiment label : unique id\n",
    "        \"\"\"\n",
    "        mappings = dict()\n",
    "        for i, c in enumerate(self.classes):\n",
    "            mappings[c] = i\n",
    "        return mappings\n",
    "        \n",
    "    def tokenize(self):\n",
    "        tokens = [tokenizer.tokenize(tweet) for tweet in tqdm(self.tweets)]\n",
    "        tokens = self.flatten_list(tokens)\n",
    "        tokens = self.clean_tokens(tokens)\n",
    "        return tokens\n",
    "    \n",
    "    def build_vocab(self):\n",
    "        unique_tokens = set(self.tokens)\n",
    "        vocab = dict()\n",
    "        for word in unique_tokens:\n",
    "            if word not in vocab:\n",
    "                vocab[word] = len(vocab)\n",
    "        # Add unknown\n",
    "        vocab['UNK'] = len(vocab)\n",
    "        return vocab\n",
    "    \n",
    "    def split_tweets(self):\n",
    "        \"\"\"\n",
    "        return: a dictionary where the sentiment labels are the keys and the values are flatten lists of tokenized tweets\n",
    "        \"\"\"\n",
    "        subsets = defaultdict(list)\n",
    "        for c in tqdm(self.classes, desc=\"Creating subsets\"):\n",
    "            tweets = self.df[self.df['Sentiment'] == c]['OriginalTweet'].tolist()\n",
    "            print(f\"Class{c} contains {len(tweets)} tweets\")\n",
    "            tokens = [tokenizer.tokenize(sent) for sent in tweets]\n",
    "            tokens = self.flatten_list(tokens)\n",
    "            subsets[c] = tokens\n",
    "        return subsets\n",
    "    \n",
    "    @staticmethod\n",
    "    def flatten_list(tokens):\n",
    "        tokens = [w for tweet in tokens for w in tweet]\n",
    "        return tokens\n",
    "    \n",
    "    @staticmethod\n",
    "    def clean_tokens(tokens):\n",
    "        \"\"\"\n",
    "        Eliminate noise\n",
    "        \n",
    "        \"\"\"\n",
    "        tokens = [w for w in tokens if not w.startswith('https')]\n",
    "        tokens = [w for w in tokens if not w.startswith('http')]\n",
    "        tokens = [w for w in tokens if not w.startswith('#')]\n",
    "        tokens = [w.lower() for w in tokens]\n",
    "        return tokens\n",
    "    \n",
    "    def __len__(self):\n",
    "        return len(self.tweets)\n",
    "        "
   ]
  },
  {
   "cell_type": "code",
   "execution_count": 9,
   "id": "orange-miami",
   "metadata": {},
   "outputs": [
    {
     "data": {
      "application/vnd.jupyter.widget-view+json": {
       "model_id": "3bdb40ee6c8a48d2b15fc11e83e7899d",
       "version_major": 2,
       "version_minor": 0
      },
      "text/plain": [
       "  0%|          | 0/41157 [00:00<?, ?it/s]"
      ]
     },
     "metadata": {},
     "output_type": "display_data"
    },
    {
     "data": {
      "application/vnd.jupyter.widget-view+json": {
       "model_id": "fbf75fded8a64866be7cfaa025695e72",
       "version_major": 2,
       "version_minor": 0
      },
      "text/plain": [
       "Creating subsets:   0%|          | 0/5 [00:00<?, ?it/s]"
      ]
     },
     "metadata": {},
     "output_type": "display_data"
    },
    {
     "name": "stdout",
     "output_type": "stream",
     "text": [
      "ClassNeutral contains 7713 tweets\n",
      "ClassPositive contains 11422 tweets\n",
      "ClassExtremely Negative contains 5481 tweets\n",
      "ClassNegative contains 9917 tweets\n",
      "ClassExtremely Positive contains 6624 tweets\n"
     ]
    }
   ],
   "source": [
    "data = Data(data)"
   ]
  },
  {
   "cell_type": "code",
   "execution_count": 10,
   "id": "continuing-draft",
   "metadata": {},
   "outputs": [],
   "source": [
    "class NBayes(object):\n",
    "    \"\"\"\n",
    "    Training class for the Classifiers\n",
    "    \n",
    "    \"\"\"\n",
    "    def __init__(self, data):\n",
    "    \n",
    "        self._data = data # The data class\n",
    "        self.vocab = self._data.vocab #the vocabulary with all words in all training tweets\n",
    "        self.subsets = self._data.tweets_per_class # subset by sentiment\n",
    "        self.mappings = self._data.mappings # mapping sentiment : idx\n",
    "        \n",
    "        # Calculate prior probabilities for each class\n",
    "        self.priors = defaultdict(float)\n",
    "        self.calc_prior()\n",
    "        \n",
    "        # P(w|c) likelihood for each word, in each class\n",
    "        # Numpy array (classes, vocab) = (5,37865)\n",
    "        self.likelihood = self.calc_likelihood()\n",
    "    \n",
    "    def calc_prior(self):\n",
    "        \"\"\"\n",
    "        Calculate the a priori probabilities for each sentiment class\n",
    "        \"\"\"\n",
    "        for c in self.mappings.keys():\n",
    "            # Number of tweet per class\n",
    "            N_c = self._data.df['Sentiment'].value_counts()[c]\n",
    "            # Number of all tweets \n",
    "            N_d = len(self._data)\n",
    "            self.priors[c] = np.log(N_c/N_d)\n",
    "            print(f\"Class {c} has prior = {self.priors[c]}\")\n",
    "        \n",
    "    def calc_likelihood(self):\n",
    "        \"\"\"\n",
    "        Core training function\n",
    "        \n",
    "        \"\"\"\n",
    "        likelihood = np.zeros((len(self.subsets), len(self.vocab)))\n",
    "        for c, tweets in tqdm(self.subsets.items(), desc=\"Class Likelihood\"):\n",
    "            word_likelihood = sum(Counter(tweets).values()) + len(self.vocab)\n",
    "            counter = Counter(tweets)\n",
    "            for word in tqdm(self.vocab, desc=\"Word likelihood\"):\n",
    "                count = counter[word] +1 \n",
    "                likelihood[self.mappings[c], self.vocab[word]] = np.log(count/ word_likelihood)\n",
    "        return likelihood                   "
   ]
  },
  {
   "cell_type": "code",
   "execution_count": 11,
   "id": "enormous-valley",
   "metadata": {
    "scrolled": true
   },
   "outputs": [
    {
     "name": "stdout",
     "output_type": "stream",
     "text": [
      "Class Neutral has prior = -1.6744868050602755\n",
      "Class Positive has prior = -1.2818527017694663\n",
      "Class Extremely Negative has prior = -2.016106455948158\n",
      "Class Negative has prior = -1.4231435658081495\n",
      "Class Extremely Positive has prior = -1.826694604929179\n"
     ]
    },
    {
     "data": {
      "application/vnd.jupyter.widget-view+json": {
       "model_id": "2b2d14a39bcd409f94b9a35721d3b686",
       "version_major": 2,
       "version_minor": 0
      },
      "text/plain": [
       "Class Likelihood:   0%|          | 0/5 [00:00<?, ?it/s]"
      ]
     },
     "metadata": {},
     "output_type": "display_data"
    },
    {
     "data": {
      "application/vnd.jupyter.widget-view+json": {
       "model_id": "4517d022aa8441e6ab9557584d2a5358",
       "version_major": 2,
       "version_minor": 0
      },
      "text/plain": [
       "Word likelihood:   0%|          | 0/37865 [00:00<?, ?it/s]"
      ]
     },
     "metadata": {},
     "output_type": "display_data"
    },
    {
     "data": {
      "application/vnd.jupyter.widget-view+json": {
       "model_id": "49940aef75394dd1b6e6a8bd3cad4740",
       "version_major": 2,
       "version_minor": 0
      },
      "text/plain": [
       "Word likelihood:   0%|          | 0/37865 [00:00<?, ?it/s]"
      ]
     },
     "metadata": {},
     "output_type": "display_data"
    },
    {
     "data": {
      "application/vnd.jupyter.widget-view+json": {
       "model_id": "191d7d6c5814496798d274721ed261e0",
       "version_major": 2,
       "version_minor": 0
      },
      "text/plain": [
       "Word likelihood:   0%|          | 0/37865 [00:00<?, ?it/s]"
      ]
     },
     "metadata": {},
     "output_type": "display_data"
    },
    {
     "data": {
      "application/vnd.jupyter.widget-view+json": {
       "model_id": "203703c7f9ca4f6e84e3b840f1ae2ecf",
       "version_major": 2,
       "version_minor": 0
      },
      "text/plain": [
       "Word likelihood:   0%|          | 0/37865 [00:00<?, ?it/s]"
      ]
     },
     "metadata": {},
     "output_type": "display_data"
    },
    {
     "data": {
      "application/vnd.jupyter.widget-view+json": {
       "model_id": "9e6206e2800c4f92af34ac39be18ba6c",
       "version_major": 2,
       "version_minor": 0
      },
      "text/plain": [
       "Word likelihood:   0%|          | 0/37865 [00:00<?, ?it/s]"
      ]
     },
     "metadata": {},
     "output_type": "display_data"
    }
   ],
   "source": [
    "classifier_train = NBayes(data=data)"
   ]
  },
  {
   "cell_type": "code",
   "execution_count": 12,
   "id": "married-carbon",
   "metadata": {},
   "outputs": [],
   "source": [
    "import random"
   ]
  },
  {
   "cell_type": "code",
   "execution_count": 25,
   "id": "documented-overview",
   "metadata": {},
   "outputs": [],
   "source": [
    "class TestBayes(object):\n",
    "    def __init__(self, trained_classifier):\n",
    "        \n",
    "        self.priors = trained_classifier.priors\n",
    "        self.vocab = trained_classifier.vocab\n",
    "        self.classes = list(trained_classifier.subsets.keys())\n",
    "        self.mappings = trained_classifier.mappings\n",
    "        self.likelihood = trained_classifier.likelihood # np array\n",
    "        \n",
    "        self.test_data = self.load_test_data()\n",
    "    \n",
    "    @staticmethod\n",
    "    def load_test_data():\n",
    "        test_df = pd.read_csv(\"Corona_NLP_test.csv\")\n",
    "        return test_df\n",
    "    \n",
    "    def __len__(self):\n",
    "        return len(self.test_data)\n",
    "        \n",
    "    \n",
    "    def choose_random(self, verbose=True):\n",
    "        test_tweet = self.test_data.iloc[random.randint(0,self.test_data.shape[0]-1)]\n",
    "        test_text = test_tweet['OriginalTweet']\n",
    "        true_class = test_tweet['Sentiment']\n",
    "        if verbose:\n",
    "            print(\"#\"*20)\n",
    "            print(\"Random tweet\")\n",
    "            print(\"#\"*20)\n",
    "            print(f\"Tweet chosen: {test_text}\\n\\n\\nwith label {true_class}\")\n",
    "        return test_text, true_class\n",
    "    \n",
    "    @staticmethod\n",
    "    def tokenize_tweet(tweet):\n",
    "        return tokenizer.tokenize(tweet)\n",
    "    \n",
    "    def test_random(self,verbose=True):\n",
    "        tweet, true_pred = self.choose_random(verbose=verbose)\n",
    "        tweet = self.tokenize_tweet(tweet)\n",
    "        classification = self.classify(tweet, true_pred, verbose=verbose)\n",
    "        return classification\n",
    "    \n",
    "    def classify(self, tweet, true_pred, verbose=True):\n",
    "        prob_vector = np.zeros(len(self.classes))\n",
    "        for c, i in self.mappings.items():\n",
    "            likelihood = 0\n",
    "            for w in tweet:\n",
    "                # Just ignore out of vocabulary words\n",
    "                if w in self.vocab:\n",
    "                    # Likelihood P(w_i|c)\n",
    "                    likelihood += self.likelihood[i,self.vocab[w]]\n",
    "            prob_vector[i] = self.priors[c] + likelihood\n",
    "        predicted_class = np.argmax(prob_vector)\n",
    "        if verbose:\n",
    "            print(\"#\"*20)\n",
    "            print(\"RESULT\")\n",
    "            print(\"#\"*20)\n",
    "            print(f\"The tweet has been classified as {self.classes[predicted_class]} -- True Class: {true_pred}\")\n",
    "            print(f\"Correctly predicted: {self.classes[predicted_class] == true_pred}\")\n",
    "        return self.classes[predicted_class] == true_pred\n",
    "        \n",
    "    \n",
    "    def shuffle(self, fraction=.2):\n",
    "        return self.test_data.sample(frac=fraction)\n",
    "        \n",
    "    def accuracy(self, fraction=.2,verbose=False):\n",
    "        data = self.shuffle(fraction=fraction)\n",
    "        n = data.shape[0]\n",
    "        answers = np.zeros(n)\n",
    "        for i in tqdm(range(n), desc=\"Testing accuracy\"):\n",
    "            tweet = data.iloc[i]['OriginalTweet']\n",
    "            true_pred = data.iloc[i]['Sentiment']\n",
    "            if self.classify(tweet, true_pred, verbose=verbose):\n",
    "                answers[i] = 1\n",
    "        if verbose:\n",
    "            print(f\"Tweets tested: {n} -- Accuracy: {np.sum(answers)/n * 100}%\")\n",
    "        return np.sum(answers)/n * 100\n",
    "        "
   ]
  },
  {
   "cell_type": "code",
   "execution_count": 26,
   "id": "characteristic-locator",
   "metadata": {},
   "outputs": [],
   "source": [
    "tester = TestBayes(classifier_train)"
   ]
  },
  {
   "cell_type": "code",
   "execution_count": 27,
   "id": "thirty-grave",
   "metadata": {},
   "outputs": [
    {
     "name": "stdout",
     "output_type": "stream",
     "text": [
      "0 Neutral\n",
      "1 Positive\n",
      "2 Extremely Negative\n",
      "3 Negative\n",
      "4 Extremely Positive\n"
     ]
    }
   ],
   "source": [
    "for i, c in enumerate(tester.classes):\n",
    "    print(i,c)"
   ]
  },
  {
   "cell_type": "code",
   "execution_count": 30,
   "id": "disabled-preserve",
   "metadata": {},
   "outputs": [
    {
     "name": "stdout",
     "output_type": "stream",
     "text": [
      "####################\n",
      "Random tweet\n",
      "####################\n",
      "Tweet chosen: I understand this is a stressful &amp; uncertain time for people in L.A. &amp; all over the world as we respond to COVID-19 &amp; work to keep our communities safe. We're hearing reports of misinformation. Please stick to trusted news sources &amp; gov agencies such as @LAPublicHealth &amp; @CDCgov.\n",
      "\n",
      "\n",
      "with label Positive\n",
      "####################\n",
      "RESULT\n",
      "####################\n",
      "The tweet has been classified as Positive -- True Class: Positive\n",
      "Correctly predicted: True\n"
     ]
    },
    {
     "data": {
      "text/plain": [
       "True"
      ]
     },
     "execution_count": 30,
     "metadata": {},
     "output_type": "execute_result"
    }
   ],
   "source": [
    "tester.test_random(verbose=True)"
   ]
  },
  {
   "cell_type": "markdown",
   "id": "lesbian-equipment",
   "metadata": {},
   "source": [
    "# Accuracy measurement"
   ]
  },
  {
   "cell_type": "code",
   "execution_count": 31,
   "id": "second-construction",
   "metadata": {
    "scrolled": true
   },
   "outputs": [],
   "source": [
    "def accuracy(n_iter = 1, frac_dataset = 0.7):\n",
    "    accuracy_values = []\n",
    "    for i in range(n_iter):\n",
    "        accuracy_values.append(tester.accuracy(fraction=frac_dataset))\n",
    "    idx = [i for i in range(len(accuracy_values))]\n",
    "    sns.lineplot(y=accuracy_values, x=idx)"
   ]
  },
  {
   "cell_type": "code",
   "execution_count": 34,
   "id": "increased-beauty",
   "metadata": {},
   "outputs": [
    {
     "data": {
      "application/vnd.jupyter.widget-view+json": {
       "model_id": "1b570a2e442d4f65946d2d3dfcf31f80",
       "version_major": 2,
       "version_minor": 0
      },
      "text/plain": [
       "Testing accuracy:   0%|          | 0/1899 [00:00<?, ?it/s]"
      ]
     },
     "metadata": {},
     "output_type": "display_data"
    },
    {
     "data": {
      "application/vnd.jupyter.widget-view+json": {
       "model_id": "2d1efa0d783343ec83bd544fc22c72c6",
       "version_major": 2,
       "version_minor": 0
      },
      "text/plain": [
       "Testing accuracy:   0%|          | 0/1899 [00:00<?, ?it/s]"
      ]
     },
     "metadata": {},
     "output_type": "display_data"
    },
    {
     "data": {
      "application/vnd.jupyter.widget-view+json": {
       "model_id": "ae2df6c9dcfa4ce79ec8cb957379263a",
       "version_major": 2,
       "version_minor": 0
      },
      "text/plain": [
       "Testing accuracy:   0%|          | 0/1899 [00:00<?, ?it/s]"
      ]
     },
     "metadata": {},
     "output_type": "display_data"
    },
    {
     "data": {
      "application/vnd.jupyter.widget-view+json": {
       "model_id": "2ac6d53c39824facad0ba5cb7c160315",
       "version_major": 2,
       "version_minor": 0
      },
      "text/plain": [
       "Testing accuracy:   0%|          | 0/1899 [00:00<?, ?it/s]"
      ]
     },
     "metadata": {},
     "output_type": "display_data"
    },
    {
     "data": {
      "application/vnd.jupyter.widget-view+json": {
       "model_id": "31978d809aaf4e3bab839a8532f16334",
       "version_major": 2,
       "version_minor": 0
      },
      "text/plain": [
       "Testing accuracy:   0%|          | 0/1899 [00:00<?, ?it/s]"
      ]
     },
     "metadata": {},
     "output_type": "display_data"
    },
    {
     "data": {
      "image/png": "[encoded data removed]",
      "text/plain": [
       "<Figure size 432x288 with 1 Axes>"
      ]
     },
     "metadata": {
      "image/png": {
       "height": 248,
       "width": 378
      },
      "needs_background": "light"
     },
     "output_type": "display_data"
    }
   ],
   "source": [
    "accuracy(n_iter=5, frac_dataset=.5)"
   ]
  },
  {
   "cell_type": "code",
   "execution_count": null,
   "id": "satellite-exchange",
   "metadata": {},
   "outputs": [],
   "source": []
  }
 ],
 "metadata": {
  "kernelspec": {
   "display_name": "Python 3",
   "language": "python",
   "name": "python3"
  },
  "language_info": {
   "codemirror_mode": {
    "name": "ipython",
    "version": 3
   },
   "file_extension": ".py",
   "mimetype": "text/x-python",
   "name": "python",
   "nbconvert_exporter": "python",
   "pygments_lexer": "ipython3",
   "version": "3.9.0"
  }
 },
 "nbformat": 4,
 "nbformat_minor": 5
}
